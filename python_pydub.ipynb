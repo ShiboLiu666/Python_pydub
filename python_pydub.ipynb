{
 "cells": [
  {
   "cell_type": "markdown",
   "metadata": {},
   "source": [
    "# 使用pydub/ffmpeg 完成长音频文件的分割与转码处理"
   ]
  },
  {
   "cell_type": "code",
   "execution_count": 1,
   "metadata": {},
   "outputs": [],
   "source": [
    "from pydub import AudioSegment"
   ]
  },
  {
   "cell_type": "code",
   "execution_count": 2,
   "metadata": {},
   "outputs": [],
   "source": [
    "#长音频文件切割\n",
    "\n",
    "def get_part_wav(filepath,first_time,last_time):\n",
    "    \n",
    "    '''\n",
    "    音频切割来获取部分音频，单位为毫秒\n",
    "    filepath : 音频文件路径\n",
    "    first_time : 需要切割的起始时间段长度\n",
    "    last_time : 需要切割的末尾时间段长度\n",
    "    part：截取后剩余中间部分\n",
    "    '''\n",
    "\n",
    "    song = AudioSegment.from_file(filepath,\"wav\")\n",
    "    first = song[:first_time]\n",
    "    last = song[-last_time:]\n",
    "    part = song[first_time:-last_time]\n",
    "    \n",
    "    filename = filepath.split(\".\")[0]\n",
    "    \n",
    "    first.export(f\"first_{filename}.wav\",format = \"wav\")\n",
    "    last.export(f\"last_{filename}.wav\",format = \"wav\")\n",
    "    part.export(f\"part_{filename}.wav\",format = \"wav\")"
   ]
  },
  {
   "cell_type": "code",
   "execution_count": 3,
   "metadata": {},
   "outputs": [],
   "source": [
    "get_part_wav(\"en_sentence.wav\",3000,2000)  #截取文件前3秒，后2秒\n",
    "get_part_wav(\"en_word.wav\",3000,2000)      #截取文件前3秒，后2秒\n",
    "get_part_wav(\"cn_chapter.wav\",2000,3000)   #截取文件前2秒，后3秒\n",
    "get_part_wav(\"cn_sentence.wav\",4000,2000)  #截取文件前4秒，后2秒"
   ]
  },
  {
   "cell_type": "code",
   "execution_count": 4,
   "metadata": {},
   "outputs": [],
   "source": [
    "#语音转码\n",
    "\n",
    "def trans(filepath,input_type,output_type):\n",
    "    \n",
    "    '''\n",
    "    filepath : 音频文件路径\n",
    "    input_type : 输入的文件类型\n",
    "    output_type : 输出的文件类型\n",
    "    '''\n",
    "    \n",
    "    song = AudioSegment.from_file(filepath,input_type)\n",
    "    filename = filepath.split(\".\")[0]\n",
    "    song.export(f\"trans_{filename}.{output_type}\", format=f\"{output_type}\")"
   ]
  },
  {
   "cell_type": "code",
   "execution_count": 5,
   "metadata": {},
   "outputs": [],
   "source": [
    "trans(\"en_chapter.wav\",\"wav\",\"mp3\")\n",
    "trans(\"en_word.wav\",\"wav\",\"mp3\")\n",
    "trans(\"cn_word.wav\",\"wav\",\"mp3\")\n",
    "trans(\"cn_sentence.wav\",\"wav\",\"mp3\")"
   ]
  }
 ],
 "metadata": {
  "kernelspec": {
   "display_name": "Python 3",
   "language": "python",
   "name": "python3"
  },
  "language_info": {
   "codemirror_mode": {
    "name": "ipython",
    "version": 3
   },
   "file_extension": ".py",
   "mimetype": "text/x-python",
   "name": "python",
   "nbconvert_exporter": "python",
   "pygments_lexer": "ipython3",
   "version": "3.7.4"
  }
 },
 "nbformat": 4,
 "nbformat_minor": 2
}
